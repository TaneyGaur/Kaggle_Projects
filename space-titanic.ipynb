{
 "cells": [
  {
   "cell_type": "code",
   "execution_count": null,
   "id": "c0f795e9",
   "metadata": {
    "papermill": {
     "duration": 0.002285,
     "end_time": "2024-11-28T07:34:28.426106",
     "exception": false,
     "start_time": "2024-11-28T07:34:28.423821",
     "status": "completed"
    },
    "tags": []
   },
   "outputs": [],
   "source": []
  },
  {
   "cell_type": "code",
   "execution_count": 1,
   "id": "53f5b40d",
   "metadata": {
    "_cell_guid": "b1076dfc-b9ad-4769-8c92-a6c4dae69d19",
    "_uuid": "8f2839f25d086af736a60e9eeb907d3b93b6e0e5",
    "execution": {
     "iopub.execute_input": "2024-11-28T07:34:28.431998Z",
     "iopub.status.busy": "2024-11-28T07:34:28.431459Z",
     "iopub.status.idle": "2024-11-28T07:34:29.319815Z",
     "shell.execute_reply": "2024-11-28T07:34:29.318896Z"
    },
    "papermill": {
     "duration": 0.893917,
     "end_time": "2024-11-28T07:34:29.321955",
     "exception": false,
     "start_time": "2024-11-28T07:34:28.428038",
     "status": "completed"
    },
    "tags": []
   },
   "outputs": [
    {
     "name": "stdout",
     "output_type": "stream",
     "text": [
      "/kaggle/input/spaceship-titanic/sample_submission.csv\n",
      "/kaggle/input/spaceship-titanic/train.csv\n",
      "/kaggle/input/spaceship-titanic/test.csv\n"
     ]
    }
   ],
   "source": [
    "# This Python 3 environment comes with many helpful analytics libraries installed\n",
    "# It is defined by the kaggle/python Docker image: https://github.com/kaggle/docker-python\n",
    "# For example, here's several helpful packages to load\n",
    "\n",
    "import numpy as np # linear algebra\n",
    "import pandas as pd # data processing, CSV file I/O (e.g. pd.read_csv)\n",
    "\n",
    "# Input data files are available in the read-only \"../input/\" directory\n",
    "# For example, running this (by clicking run or pressing Shift+Enter) will list all files under the input directory\n",
    "\n",
    "import os\n",
    "for dirname, _, filenames in os.walk('/kaggle/input'):\n",
    "    for filename in filenames:\n",
    "        print(os.path.join(dirname, filename))\n",
    "\n",
    "# You can write up to 20GB to the current directory (/kaggle/working/) that gets preserved as output when you create a version using \"Save & Run All\" \n",
    "# You can also write temporary files to /kaggle/temp/, but they won't be saved outside of the current session"
   ]
  },
  {
   "cell_type": "code",
   "execution_count": 2,
   "id": "d4c65776",
   "metadata": {
    "execution": {
     "iopub.execute_input": "2024-11-28T07:34:29.326905Z",
     "iopub.status.busy": "2024-11-28T07:34:29.326455Z",
     "iopub.status.idle": "2024-11-28T07:34:31.160202Z",
     "shell.execute_reply": "2024-11-28T07:34:31.157968Z"
    },
    "papermill": {
     "duration": 1.840328,
     "end_time": "2024-11-28T07:34:31.164102",
     "exception": false,
     "start_time": "2024-11-28T07:34:29.323774",
     "status": "completed"
    },
    "tags": []
   },
   "outputs": [
    {
     "name": "stderr",
     "output_type": "stream",
     "text": [
      "/tmp/ipykernel_17/3075730235.py:29: FutureWarning: A value is trying to be set on a copy of a DataFrame or Series through chained assignment using an inplace method.\n",
      "The behavior will change in pandas 3.0. This inplace method will never work because the intermediate object on which we are setting values always behaves as a copy.\n",
      "\n",
      "For example, when doing 'df[col].method(value, inplace=True)', try using 'df.method({col: value}, inplace=True)' or df[col] = df[col].method(value) instead, to perform the operation inplace on the original object.\n",
      "\n",
      "\n",
      "  df['CryoSleep'].fillna(False, inplace=True)\n",
      "/tmp/ipykernel_17/3075730235.py:29: FutureWarning: Downcasting object dtype arrays on .fillna, .ffill, .bfill is deprecated and will change in a future version. Call result.infer_objects(copy=False) instead. To opt-in to the future behavior, set `pd.set_option('future.no_silent_downcasting', True)`\n",
      "  df['CryoSleep'].fillna(False, inplace=True)\n",
      "/tmp/ipykernel_17/3075730235.py:30: FutureWarning: A value is trying to be set on a copy of a DataFrame or Series through chained assignment using an inplace method.\n",
      "The behavior will change in pandas 3.0. This inplace method will never work because the intermediate object on which we are setting values always behaves as a copy.\n",
      "\n",
      "For example, when doing 'df[col].method(value, inplace=True)', try using 'df.method({col: value}, inplace=True)' or df[col] = df[col].method(value) instead, to perform the operation inplace on the original object.\n",
      "\n",
      "\n",
      "  df['VIP'].fillna(False, inplace=True)\n",
      "/tmp/ipykernel_17/3075730235.py:30: FutureWarning: Downcasting object dtype arrays on .fillna, .ffill, .bfill is deprecated and will change in a future version. Call result.infer_objects(copy=False) instead. To opt-in to the future behavior, set `pd.set_option('future.no_silent_downcasting', True)`\n",
      "  df['VIP'].fillna(False, inplace=True)\n",
      "/tmp/ipykernel_17/3075730235.py:38: FutureWarning: A value is trying to be set on a copy of a DataFrame or Series through chained assignment using an inplace method.\n",
      "The behavior will change in pandas 3.0. This inplace method will never work because the intermediate object on which we are setting values always behaves as a copy.\n",
      "\n",
      "For example, when doing 'df[col].method(value, inplace=True)', try using 'df.method({col: value}, inplace=True)' or df[col] = df[col].method(value) instead, to perform the operation inplace on the original object.\n",
      "\n",
      "\n",
      "  df['Num'].fillna(df['Num'].median(), inplace=True)\n",
      "/tmp/ipykernel_17/3075730235.py:29: FutureWarning: A value is trying to be set on a copy of a DataFrame or Series through chained assignment using an inplace method.\n",
      "The behavior will change in pandas 3.0. This inplace method will never work because the intermediate object on which we are setting values always behaves as a copy.\n",
      "\n",
      "For example, when doing 'df[col].method(value, inplace=True)', try using 'df.method({col: value}, inplace=True)' or df[col] = df[col].method(value) instead, to perform the operation inplace on the original object.\n",
      "\n",
      "\n",
      "  df['CryoSleep'].fillna(False, inplace=True)\n",
      "/tmp/ipykernel_17/3075730235.py:29: FutureWarning: Downcasting object dtype arrays on .fillna, .ffill, .bfill is deprecated and will change in a future version. Call result.infer_objects(copy=False) instead. To opt-in to the future behavior, set `pd.set_option('future.no_silent_downcasting', True)`\n",
      "  df['CryoSleep'].fillna(False, inplace=True)\n",
      "/tmp/ipykernel_17/3075730235.py:30: FutureWarning: A value is trying to be set on a copy of a DataFrame or Series through chained assignment using an inplace method.\n",
      "The behavior will change in pandas 3.0. This inplace method will never work because the intermediate object on which we are setting values always behaves as a copy.\n",
      "\n",
      "For example, when doing 'df[col].method(value, inplace=True)', try using 'df.method({col: value}, inplace=True)' or df[col] = df[col].method(value) instead, to perform the operation inplace on the original object.\n",
      "\n",
      "\n",
      "  df['VIP'].fillna(False, inplace=True)\n",
      "/tmp/ipykernel_17/3075730235.py:30: FutureWarning: Downcasting object dtype arrays on .fillna, .ffill, .bfill is deprecated and will change in a future version. Call result.infer_objects(copy=False) instead. To opt-in to the future behavior, set `pd.set_option('future.no_silent_downcasting', True)`\n",
      "  df['VIP'].fillna(False, inplace=True)\n",
      "/tmp/ipykernel_17/3075730235.py:38: FutureWarning: A value is trying to be set on a copy of a DataFrame or Series through chained assignment using an inplace method.\n",
      "The behavior will change in pandas 3.0. This inplace method will never work because the intermediate object on which we are setting values always behaves as a copy.\n",
      "\n",
      "For example, when doing 'df[col].method(value, inplace=True)', try using 'df.method({col: value}, inplace=True)' or df[col] = df[col].method(value) instead, to perform the operation inplace on the original object.\n",
      "\n",
      "\n",
      "  df['Num'].fillna(df['Num'].median(), inplace=True)\n",
      "/opt/conda/lib/python3.10/site-packages/sklearn/preprocessing/_encoders.py:868: FutureWarning: `sparse` was renamed to `sparse_output` in version 1.2 and will be removed in 1.4. `sparse_output` is ignored unless you leave `sparse` to its default value.\n",
      "  warnings.warn(\n"
     ]
    },
    {
     "name": "stdout",
     "output_type": "stream",
     "text": [
      "Shape of submission file: (4277, 2)\n",
      "\n",
      "First few rows of submission file:\n",
      "  PassengerId  Transported\n",
      "0     0013_01         True\n",
      "1     0018_01        False\n",
      "2     0019_01         True\n",
      "3     0021_01         True\n",
      "4     0023_01         True\n"
     ]
    }
   ],
   "source": [
    "import numpy as np\n",
    "import pandas as pd\n",
    "from sklearn import preprocessing\n",
    "from sklearn.linear_model import LogisticRegression\n",
    "from sklearn.preprocessing import StandardScaler, OneHotEncoder\n",
    "from sklearn.compose import ColumnTransformer\n",
    "from sklearn.pipeline import Pipeline\n",
    "\n",
    "# Load the data\n",
    "train = pd.read_csv(\"/kaggle/input/spaceship-titanic/train.csv\")\n",
    "test = pd.read_csv(\"/kaggle/input/spaceship-titanic/test.csv\")\n",
    "\n",
    "# Create feature engineering function to keep code DRY\n",
    "def process_features(df):\n",
    "    # Split Cabin into components\n",
    "    df['Deck'] = df['Cabin'].str.split('/', expand=True)[0]\n",
    "    df['Num'] = df['Cabin'].str.split('/', expand=True)[1]\n",
    "    df['Side'] = df['Cabin'].str.split('/', expand=True)[2]\n",
    "    \n",
    "    # Store PassengerId before dropping if it's in the dataframe\n",
    "    passenger_id = df['PassengerId'] if 'PassengerId' in df.columns else None\n",
    "    \n",
    "    # Drop unnecessary columns\n",
    "    df.drop(columns=['Cabin', 'Name'], inplace=True)\n",
    "    if 'PassengerId' in df.columns:\n",
    "        df.drop(columns=['PassengerId'], inplace=True)\n",
    "    \n",
    "    # Fill missing values\n",
    "    df['CryoSleep'].fillna(False, inplace=True)\n",
    "    df['VIP'].fillna(False, inplace=True)\n",
    "    \n",
    "    # For numerical columns, fill with median\n",
    "    numerical_cols = ['Age', 'RoomService', 'FoodCourt', 'ShoppingMall', 'Spa', 'VRDeck']\n",
    "    df[numerical_cols] = df[numerical_cols].fillna(df[numerical_cols].median())\n",
    "    \n",
    "    # Convert 'Num' to numeric, filling errors with median\n",
    "    df['Num'] = pd.to_numeric(df['Num'], errors='coerce')\n",
    "    df['Num'].fillna(df['Num'].median(), inplace=True)\n",
    "    \n",
    "    return df, passenger_id\n",
    "\n",
    "# Process both datasets\n",
    "train, _ = process_features(train)\n",
    "test, passenger_id = process_features(test)\n",
    "\n",
    "# Define column types\n",
    "categorical_features = ['HomePlanet', 'Destination', 'Deck', 'Side']\n",
    "numerical_features = ['Age', 'RoomService', 'FoodCourt', 'ShoppingMall', 'Spa', 'VRDeck', 'Num']\n",
    "boolean_features = ['CryoSleep', 'VIP']\n",
    "\n",
    "# Create preprocessing steps\n",
    "preprocessor = ColumnTransformer(\n",
    "    transformers=[\n",
    "        ('num', StandardScaler(), numerical_features),\n",
    "        ('cat', OneHotEncoder(drop='first', sparse=False, handle_unknown='ignore'), categorical_features),\n",
    "        ('bool', 'passthrough', boolean_features)\n",
    "    ])\n",
    "\n",
    "# Create pipeline\n",
    "model = Pipeline([\n",
    "    ('preprocessor', preprocessor),\n",
    "    ('classifier', LogisticRegression(max_iter=1000))\n",
    "])\n",
    "\n",
    "# Prepare target variable\n",
    "y = train['Transported'].astype(bool)\n",
    "X = train.drop('Transported', axis=1)\n",
    "\n",
    "# Fit the pipeline\n",
    "model.fit(X, y)\n",
    "\n",
    "# Make predictions\n",
    "predictions = model.predict(test)\n",
    "\n",
    "# Create submission file\n",
    "submission = pd.DataFrame({\n",
    "    'PassengerId': passenger_id,\n",
    "    'Transported': predictions\n",
    "})\n",
    "\n",
    "# Save submission\n",
    "submission.to_csv('submission.csv', index=False)\n",
    "\n",
    "print(\"Shape of submission file:\", submission.shape)\n",
    "print(\"\\nFirst few rows of submission file:\")\n",
    "print(submission.head())"
   ]
  }
 ],
 "metadata": {
  "kaggle": {
   "accelerator": "none",
   "dataSources": [
    {
     "databundleVersionId": 3220602,
     "sourceId": 34377,
     "sourceType": "competition"
    }
   ],
   "dockerImageVersionId": 30786,
   "isGpuEnabled": false,
   "isInternetEnabled": false,
   "language": "python",
   "sourceType": "notebook"
  },
  "kernelspec": {
   "display_name": "Python 3",
   "language": "python",
   "name": "python3"
  },
  "language_info": {
   "codemirror_mode": {
    "name": "ipython",
    "version": 3
   },
   "file_extension": ".py",
   "mimetype": "text/x-python",
   "name": "python",
   "nbconvert_exporter": "python",
   "pygments_lexer": "ipython3",
   "version": "3.10.14"
  },
  "papermill": {
   "default_parameters": {},
   "duration": 5.984543,
   "end_time": "2024-11-28T07:34:31.797647",
   "environment_variables": {},
   "exception": null,
   "input_path": "__notebook__.ipynb",
   "output_path": "__notebook__.ipynb",
   "parameters": {},
   "start_time": "2024-11-28T07:34:25.813104",
   "version": "2.6.0"
  }
 },
 "nbformat": 4,
 "nbformat_minor": 5
}
