{
 "cells": [
  {
   "cell_type": "code",
   "execution_count": 1,
   "id": "cf8c509b",
   "metadata": {
    "_cell_guid": "b1076dfc-b9ad-4769-8c92-a6c4dae69d19",
    "_uuid": "8f2839f25d086af736a60e9eeb907d3b93b6e0e5",
    "execution": {
     "iopub.execute_input": "2024-11-28T07:28:03.700708Z",
     "iopub.status.busy": "2024-11-28T07:28:03.700292Z",
     "iopub.status.idle": "2024-11-28T07:28:04.646572Z",
     "shell.execute_reply": "2024-11-28T07:28:04.645346Z"
    },
    "papermill": {
     "duration": 0.955503,
     "end_time": "2024-11-28T07:28:04.648962",
     "exception": false,
     "start_time": "2024-11-28T07:28:03.693459",
     "status": "completed"
    },
    "tags": []
   },
   "outputs": [
    {
     "name": "stdout",
     "output_type": "stream",
     "text": [
      "/kaggle/input/store-sales-time-series-forecasting/oil.csv\n",
      "/kaggle/input/store-sales-time-series-forecasting/sample_submission.csv\n",
      "/kaggle/input/store-sales-time-series-forecasting/holidays_events.csv\n",
      "/kaggle/input/store-sales-time-series-forecasting/stores.csv\n",
      "/kaggle/input/store-sales-time-series-forecasting/train.csv\n",
      "/kaggle/input/store-sales-time-series-forecasting/test.csv\n",
      "/kaggle/input/store-sales-time-series-forecasting/transactions.csv\n"
     ]
    }
   ],
   "source": [
    "# This Python 3 environment comes with many helpful analytics libraries installed\n",
    "# It is defined by the kaggle/python Docker image: https://github.com/kaggle/docker-python\n",
    "# For example, here's several helpful packages to load\n",
    "\n",
    "import numpy as np # linear algebra\n",
    "import pandas as pd # data processing, CSV file I/O (e.g. pd.read_csv)\n",
    "\n",
    "# Input data files are available in the read-only \"../input/\" directory\n",
    "# For example, running this (by clicking run or pressing Shift+Enter) will list all files under the input directory\n",
    "\n",
    "import os\n",
    "for dirname, _, filenames in os.walk('/kaggle/input'):\n",
    "    for filename in filenames:\n",
    "        print(os.path.join(dirname, filename))\n",
    "\n",
    "# You can write up to 20GB to the current directory (/kaggle/working/) that gets preserved as output when you create a version using \"Save & Run All\" \n",
    "# You can also write temporary files to /kaggle/temp/, but they won't be saved outside of the current session"
   ]
  },
  {
   "cell_type": "code",
   "execution_count": 2,
   "id": "acf104f0",
   "metadata": {
    "execution": {
     "iopub.execute_input": "2024-11-28T07:28:04.660658Z",
     "iopub.status.busy": "2024-11-28T07:28:04.660130Z",
     "iopub.status.idle": "2024-11-28T07:28:10.259941Z",
     "shell.execute_reply": "2024-11-28T07:28:10.258851Z"
    },
    "papermill": {
     "duration": 5.608249,
     "end_time": "2024-11-28T07:28:10.262509",
     "exception": false,
     "start_time": "2024-11-28T07:28:04.654260",
     "status": "completed"
    },
    "tags": []
   },
   "outputs": [],
   "source": [
    "import pandas as pd\n",
    "import numpy as np\n",
    "import matplotlib.pyplot as plt\n",
    "from sklearn.model_selection import train_test_split\n",
    "from sklearn.ensemble import GradientBoostingRegressor\n",
    "from sklearn.metrics import mean_squared_error\n",
    "from sklearn.impute import SimpleImputer\n",
    "\n",
    "train = pd.read_csv(\"/kaggle/input/store-sales-time-series-forecasting/train.csv\")\n",
    "test = pd.read_csv(\"/kaggle/input/store-sales-time-series-forecasting/test.csv\")\n",
    "transactions = pd.read_csv('/kaggle/input/store-sales-time-series-forecasting/transactions.csv')\n",
    "stores = pd.read_csv('/kaggle/input/store-sales-time-series-forecasting/stores.csv')\n",
    "oil = pd.read_csv('/kaggle/input/store-sales-time-series-forecasting/oil.csv')\n",
    "holidays_events = pd.read_csv('/kaggle/input/store-sales-time-series-forecasting/holidays_events.csv')"
   ]
  },
  {
   "cell_type": "markdown",
   "id": "c2325a1e",
   "metadata": {
    "papermill": {
     "duration": 0.004519,
     "end_time": "2024-11-28T07:28:10.271954",
     "exception": false,
     "start_time": "2024-11-28T07:28:10.267435",
     "status": "completed"
    },
    "tags": []
   },
   "source": [
    "After importing all the required datasets it is time to focus on the preprocessing of the datasets.\n",
    "Preprocessing of Datasets involves 2 major things:\n",
    "1. Looking if it contains any null values\n",
    "2. Conversion of Datatypes into forms that will be acceptible to the model for analysis."
   ]
  },
  {
   "cell_type": "code",
   "execution_count": 3,
   "id": "0ce5c74c",
   "metadata": {
    "execution": {
     "iopub.execute_input": "2024-11-28T07:28:10.284068Z",
     "iopub.status.busy": "2024-11-28T07:28:10.283696Z",
     "iopub.status.idle": "2024-11-28T07:28:10.586011Z",
     "shell.execute_reply": "2024-11-28T07:28:10.584855Z"
    },
    "papermill": {
     "duration": 0.312198,
     "end_time": "2024-11-28T07:28:10.588665",
     "exception": false,
     "start_time": "2024-11-28T07:28:10.276467",
     "status": "completed"
    },
    "tags": []
   },
   "outputs": [
    {
     "data": {
      "text/plain": [
       "id             0\n",
       "date           0\n",
       "store_nbr      0\n",
       "family         0\n",
       "onpromotion    0\n",
       "dtype: int64"
      ]
     },
     "execution_count": 3,
     "metadata": {},
     "output_type": "execute_result"
    }
   ],
   "source": [
    "train.isnull().sum()\n",
    "test.isnull().sum()"
   ]
  },
  {
   "cell_type": "markdown",
   "id": "5b744954",
   "metadata": {
    "papermill": {
     "duration": 0.004462,
     "end_time": "2024-11-28T07:28:10.598131",
     "exception": false,
     "start_time": "2024-11-28T07:28:10.593669",
     "status": "completed"
    },
    "tags": []
   },
   "source": [
    "As of now there are no null values in the datasets so we are going to merge the datasets but we will have to convert categorical features into a form that the model accepts and convert data regarding dates to datetime."
   ]
  },
  {
   "cell_type": "code",
   "execution_count": 4,
   "id": "39819647",
   "metadata": {
    "execution": {
     "iopub.execute_input": "2024-11-28T07:28:10.610271Z",
     "iopub.status.busy": "2024-11-28T07:28:10.609891Z",
     "iopub.status.idle": "2024-11-28T07:28:15.237098Z",
     "shell.execute_reply": "2024-11-28T07:28:15.236088Z"
    },
    "papermill": {
     "duration": 4.636501,
     "end_time": "2024-11-28T07:28:15.239494",
     "exception": false,
     "start_time": "2024-11-28T07:28:10.602993",
     "status": "completed"
    },
    "tags": []
   },
   "outputs": [],
   "source": [
    "train = pd.merge(train, stores, how='left', on='store_nbr')\n",
    "train = pd.merge(train, transactions, how='left', on=['date', 'store_nbr'])\n",
    "train = pd.merge(train, oil, how='left', on='date')\n",
    "train = pd.merge(train, holidays_events, how='left', on='date')\n",
    "\n",
    "test = pd.merge(test, stores, how='left', on='store_nbr')\n",
    "test = pd.merge(test, transactions, how='left', on=['date', 'store_nbr'])\n",
    "test = pd.merge(test, oil, how='left', on='date')\n",
    "test = pd.merge(test, holidays_events, how='left', on='date')"
   ]
  },
  {
   "cell_type": "markdown",
   "id": "3cd752bc",
   "metadata": {
    "papermill": {
     "duration": 0.004404,
     "end_time": "2024-11-28T07:28:15.249217",
     "exception": false,
     "start_time": "2024-11-28T07:28:15.244813",
     "status": "completed"
    },
    "tags": []
   },
   "source": [
    "Now we have merged the training and testing datasets with features of interests.\n",
    "Now is time to feature engineer and convert date into day of week."
   ]
  },
  {
   "cell_type": "code",
   "execution_count": 5,
   "id": "5cabb0d7",
   "metadata": {
    "execution": {
     "iopub.execute_input": "2024-11-28T07:28:15.260082Z",
     "iopub.status.busy": "2024-11-28T07:28:15.259696Z",
     "iopub.status.idle": "2024-11-28T07:28:15.690229Z",
     "shell.execute_reply": "2024-11-28T07:28:15.689078Z"
    },
    "papermill": {
     "duration": 0.438782,
     "end_time": "2024-11-28T07:28:15.692713",
     "exception": false,
     "start_time": "2024-11-28T07:28:15.253931",
     "status": "completed"
    },
    "tags": []
   },
   "outputs": [],
   "source": [
    "train['day_of_week'] = pd.to_datetime(train['date']).dt.dayofweek\n",
    "test['day_of_week'] = pd.to_datetime(test['date']).dt.dayofweek"
   ]
  },
  {
   "cell_type": "markdown",
   "id": "a1d7d50b",
   "metadata": {
    "papermill": {
     "duration": 0.005191,
     "end_time": "2024-11-28T07:28:15.703318",
     "exception": false,
     "start_time": "2024-11-28T07:28:15.698127",
     "status": "completed"
    },
    "tags": []
   },
   "source": [
    "Now let's check if our data is skewed in any manner...."
   ]
  },
  {
   "cell_type": "markdown",
   "id": "1f39dc0e",
   "metadata": {
    "papermill": {
     "duration": 0.004345,
     "end_time": "2024-11-28T07:28:15.712435",
     "exception": false,
     "start_time": "2024-11-28T07:28:15.708090",
     "status": "completed"
    },
    "tags": []
   },
   "source": [
    "Now we see that a tail is getting formed in the datset....meaning that the data is skewed or concenterated on one timeframe...we are going to fix this by using a log(1+x) function...it provides weight to smaller values while at the dame time lowering the larger values."
   ]
  },
  {
   "cell_type": "code",
   "execution_count": 6,
   "id": "5d4dfa41",
   "metadata": {
    "execution": {
     "iopub.execute_input": "2024-11-28T07:28:15.723816Z",
     "iopub.status.busy": "2024-11-28T07:28:15.723439Z",
     "iopub.status.idle": "2024-11-28T07:28:15.789669Z",
     "shell.execute_reply": "2024-11-28T07:28:15.788454Z"
    },
    "papermill": {
     "duration": 0.074622,
     "end_time": "2024-11-28T07:28:15.792161",
     "exception": false,
     "start_time": "2024-11-28T07:28:15.717539",
     "status": "completed"
    },
    "tags": []
   },
   "outputs": [],
   "source": [
    "train['log_sales'] = np.log1p(train['sales'])"
   ]
  },
  {
   "cell_type": "markdown",
   "id": "0df5820e",
   "metadata": {
    "papermill": {
     "duration": 0.004573,
     "end_time": "2024-11-28T07:28:15.801752",
     "exception": false,
     "start_time": "2024-11-28T07:28:15.797179",
     "status": "completed"
    },
    "tags": []
   },
   "source": [
    "Now that we have dealt with the skewness of the dataset we are going to do feature selection for training our model.\n",
    "But as some of the features may have categorical values that the model won't accept we will use get dummies functions for converting these values."
   ]
  },
  {
   "cell_type": "code",
   "execution_count": 7,
   "id": "37f02fc1",
   "metadata": {
    "execution": {
     "iopub.execute_input": "2024-11-28T07:28:15.812879Z",
     "iopub.status.busy": "2024-11-28T07:28:15.812487Z",
     "iopub.status.idle": "2024-11-28T07:28:16.537680Z",
     "shell.execute_reply": "2024-11-28T07:28:16.536452Z"
    },
    "papermill": {
     "duration": 0.734265,
     "end_time": "2024-11-28T07:28:16.540810",
     "exception": false,
     "start_time": "2024-11-28T07:28:15.806545",
     "status": "completed"
    },
    "tags": []
   },
   "outputs": [],
   "source": [
    "features = ['store_nbr', 'onpromotion', 'day_of_week', 'cluster', 'dcoilwtico']\n",
    "\n",
    "X_train = pd.get_dummies(train[features])\n",
    "y_train = train['log_sales']\n",
    "\n",
    "X_train = X_train.dropna()\n",
    "y_train = y_train[X_train.index]  \n",
    "X_test = pd.get_dummies(test[features])\n",
    "\n",
    "X_train, X_valid, y_train, y_valid = train_test_split(X_train, y_train, test_size=0.2, random_state=42)"
   ]
  },
  {
   "cell_type": "markdown",
   "id": "9b7a66bd",
   "metadata": {
    "papermill": {
     "duration": 0.004828,
     "end_time": "2024-11-28T07:28:16.550902",
     "exception": false,
     "start_time": "2024-11-28T07:28:16.546074",
     "status": "completed"
    },
    "tags": []
   },
   "source": [
    "Now the model we are going to use is GradientBoostingRegressor model... And calculate the rmsle value as it is the criteria for this competition."
   ]
  },
  {
   "cell_type": "code",
   "execution_count": 8,
   "id": "e5edce21",
   "metadata": {
    "execution": {
     "iopub.execute_input": "2024-11-28T07:28:16.562336Z",
     "iopub.status.busy": "2024-11-28T07:28:16.561942Z",
     "iopub.status.idle": "2024-11-28T07:31:00.702540Z",
     "shell.execute_reply": "2024-11-28T07:31:00.701275Z"
    },
    "papermill": {
     "duration": 164.149371,
     "end_time": "2024-11-28T07:31:00.705229",
     "exception": false,
     "start_time": "2024-11-28T07:28:16.555858",
     "status": "completed"
    },
    "tags": []
   },
   "outputs": [],
   "source": [
    "model = GradientBoostingRegressor(n_estimators=100, random_state=42)\n",
    "model.fit(X_train, y_train)\n",
    "\n",
    "y_predict = model.predict(X_valid)\n",
    "\n",
    "rmsle = np.sqrt(mean_squared_error(y_valid, y_predict))"
   ]
  },
  {
   "cell_type": "markdown",
   "id": "a5609b64",
   "metadata": {
    "papermill": {
     "duration": 0.0043,
     "end_time": "2024-11-28T07:31:00.714591",
     "exception": false,
     "start_time": "2024-11-28T07:31:00.710291",
     "status": "completed"
    },
    "tags": []
   },
   "source": [
    "Now a new problem that arises with encoding categorical data is that both the training and test dataset should have identical features and data count otherwise the encoding will be incorrect and leading to model rejecting the input.\n",
    "So to counter this problem we will recreate each column missing in test dataset with all it's value set to zero..."
   ]
  },
  {
   "cell_type": "code",
   "execution_count": 9,
   "id": "f70aa019",
   "metadata": {
    "execution": {
     "iopub.execute_input": "2024-11-28T07:31:00.725178Z",
     "iopub.status.busy": "2024-11-28T07:31:00.724827Z",
     "iopub.status.idle": "2024-11-28T07:31:00.733027Z",
     "shell.execute_reply": "2024-11-28T07:31:00.731928Z"
    },
    "papermill": {
     "duration": 0.016132,
     "end_time": "2024-11-28T07:31:00.735180",
     "exception": false,
     "start_time": "2024-11-28T07:31:00.719048",
     "status": "completed"
    },
    "tags": []
   },
   "outputs": [],
   "source": [
    "features_train = ['onpromotion', 'cluster', 'dcoilwtico', 'store_nbr', 'day_of_week']\n",
    "\n",
    "X_Test_encoded = pd.get_dummies(X_test)\n",
    "\n",
    "missing_cols = set(X_train.columns) - set(X_Test_encoded.columns)\n",
    "for col in missing_cols:\n",
    "    X_Test_encoded[col] = 0"
   ]
  },
  {
   "cell_type": "markdown",
   "id": "c2304b19",
   "metadata": {
    "papermill": {
     "duration": 0.004467,
     "end_time": "2024-11-28T07:31:00.744453",
     "exception": false,
     "start_time": "2024-11-28T07:31:00.739986",
     "status": "completed"
    },
    "tags": []
   },
   "source": [
    "Now that there will be null values in test dataset we will use an imputer to fill those null values."
   ]
  },
  {
   "cell_type": "code",
   "execution_count": 10,
   "id": "9e731a28",
   "metadata": {
    "execution": {
     "iopub.execute_input": "2024-11-28T07:31:00.755130Z",
     "iopub.status.busy": "2024-11-28T07:31:00.754768Z",
     "iopub.status.idle": "2024-11-28T07:31:00.771733Z",
     "shell.execute_reply": "2024-11-28T07:31:00.770560Z"
    },
    "papermill": {
     "duration": 0.024983,
     "end_time": "2024-11-28T07:31:00.773968",
     "exception": false,
     "start_time": "2024-11-28T07:31:00.748985",
     "status": "completed"
    },
    "tags": []
   },
   "outputs": [
    {
     "name": "stdout",
     "output_type": "stream",
     "text": [
      "store_nbr      0\n",
      "onpromotion    0\n",
      "day_of_week    0\n",
      "cluster        0\n",
      "dcoilwtico     0\n",
      "dtype: int64\n"
     ]
    }
   ],
   "source": [
    "imputer = SimpleImputer()\n",
    "X_Test_encoded = pd.DataFrame(imputer.fit_transform(X_Test_encoded), columns=X_Test_encoded.columns)\n",
    "print(X_Test_encoded.isnull().sum())"
   ]
  },
  {
   "cell_type": "code",
   "execution_count": 11,
   "id": "3e748bc0",
   "metadata": {
    "execution": {
     "iopub.execute_input": "2024-11-28T07:31:00.784981Z",
     "iopub.status.busy": "2024-11-28T07:31:00.784614Z",
     "iopub.status.idle": "2024-11-28T07:31:00.818137Z",
     "shell.execute_reply": "2024-11-28T07:31:00.816952Z"
    },
    "papermill": {
     "duration": 0.041911,
     "end_time": "2024-11-28T07:31:00.820643",
     "exception": false,
     "start_time": "2024-11-28T07:31:00.778732",
     "status": "completed"
    },
    "tags": []
   },
   "outputs": [],
   "source": [
    "features_test = ['store_nbr', 'onpromotion', 'day_of_week', 'cluster', 'dcoilwtico']\n",
    "X_Test = X_test[features]\n",
    "\n",
    "# Predictions on the test set\n",
    "y_predict_test = model.predict(X_Test_encoded)"
   ]
  },
  {
   "cell_type": "code",
   "execution_count": 12,
   "id": "03e1b51c",
   "metadata": {
    "execution": {
     "iopub.execute_input": "2024-11-28T07:31:00.832254Z",
     "iopub.status.busy": "2024-11-28T07:31:00.831422Z",
     "iopub.status.idle": "2024-11-28T07:31:00.900739Z",
     "shell.execute_reply": "2024-11-28T07:31:00.899795Z"
    },
    "papermill": {
     "duration": 0.077617,
     "end_time": "2024-11-28T07:31:00.903212",
     "exception": false,
     "start_time": "2024-11-28T07:31:00.825595",
     "status": "completed"
    },
    "tags": []
   },
   "outputs": [],
   "source": [
    "submission = pd.DataFrame({\n",
    "    'id': test['id'],\n",
    "    'sales': y_predict_test\n",
    "})\n",
    "submission.to_csv('submission.csv', index=False)"
   ]
  },
  {
   "cell_type": "code",
   "execution_count": 13,
   "id": "396d2c1b",
   "metadata": {
    "execution": {
     "iopub.execute_input": "2024-11-28T07:31:00.914156Z",
     "iopub.status.busy": "2024-11-28T07:31:00.913805Z",
     "iopub.status.idle": "2024-11-28T07:31:00.928162Z",
     "shell.execute_reply": "2024-11-28T07:31:00.927064Z"
    },
    "papermill": {
     "duration": 0.022859,
     "end_time": "2024-11-28T07:31:00.930856",
     "exception": false,
     "start_time": "2024-11-28T07:31:00.907997",
     "status": "completed"
    },
    "tags": []
   },
   "outputs": [
    {
     "data": {
      "text/html": [
       "<div>\n",
       "<style scoped>\n",
       "    .dataframe tbody tr th:only-of-type {\n",
       "        vertical-align: middle;\n",
       "    }\n",
       "\n",
       "    .dataframe tbody tr th {\n",
       "        vertical-align: top;\n",
       "    }\n",
       "\n",
       "    .dataframe thead th {\n",
       "        text-align: right;\n",
       "    }\n",
       "</style>\n",
       "<table border=\"1\" class=\"dataframe\">\n",
       "  <thead>\n",
       "    <tr style=\"text-align: right;\">\n",
       "      <th></th>\n",
       "      <th>id</th>\n",
       "      <th>sales</th>\n",
       "    </tr>\n",
       "  </thead>\n",
       "  <tbody>\n",
       "    <tr>\n",
       "      <th>0</th>\n",
       "      <td>3000888</td>\n",
       "      <td>2.396544</td>\n",
       "    </tr>\n",
       "    <tr>\n",
       "      <th>1</th>\n",
       "      <td>3000889</td>\n",
       "      <td>2.396544</td>\n",
       "    </tr>\n",
       "    <tr>\n",
       "      <th>2</th>\n",
       "      <td>3000890</td>\n",
       "      <td>4.970418</td>\n",
       "    </tr>\n",
       "    <tr>\n",
       "      <th>3</th>\n",
       "      <td>3000891</td>\n",
       "      <td>6.784168</td>\n",
       "    </tr>\n",
       "    <tr>\n",
       "      <th>4</th>\n",
       "      <td>3000892</td>\n",
       "      <td>2.396544</td>\n",
       "    </tr>\n",
       "  </tbody>\n",
       "</table>\n",
       "</div>"
      ],
      "text/plain": [
       "        id     sales\n",
       "0  3000888  2.396544\n",
       "1  3000889  2.396544\n",
       "2  3000890  4.970418\n",
       "3  3000891  6.784168\n",
       "4  3000892  2.396544"
      ]
     },
     "metadata": {},
     "output_type": "display_data"
    }
   ],
   "source": [
    "display(submission.head())"
   ]
  },
  {
   "cell_type": "markdown",
   "id": "dd4f701e",
   "metadata": {
    "papermill": {
     "duration": 0.004656,
     "end_time": "2024-11-28T07:31:00.940443",
     "exception": false,
     "start_time": "2024-11-28T07:31:00.935787",
     "status": "completed"
    },
    "tags": []
   },
   "source": [
    "Reference: https://www.kaggle.com/code/bravo03/store-sales-time-series-forecasting?kernelSessionId=160694314"
   ]
  }
 ],
 "metadata": {
  "kaggle": {
   "accelerator": "none",
   "dataSources": [
    {
     "databundleVersionId": 2887556,
     "sourceId": 29781,
     "sourceType": "competition"
    }
   ],
   "dockerImageVersionId": 30786,
   "isGpuEnabled": false,
   "isInternetEnabled": true,
   "language": "python",
   "sourceType": "notebook"
  },
  "kernelspec": {
   "display_name": "Python 3",
   "language": "python",
   "name": "python3"
  },
  "language_info": {
   "codemirror_mode": {
    "name": "ipython",
    "version": 3
   },
   "file_extension": ".py",
   "mimetype": "text/x-python",
   "name": "python",
   "nbconvert_exporter": "python",
   "pygments_lexer": "ipython3",
   "version": "3.10.14"
  },
  "papermill": {
   "default_parameters": {},
   "duration": 180.749963,
   "end_time": "2024-11-28T07:31:01.667022",
   "environment_variables": {},
   "exception": null,
   "input_path": "__notebook__.ipynb",
   "output_path": "__notebook__.ipynb",
   "parameters": {},
   "start_time": "2024-11-28T07:28:00.917059",
   "version": "2.6.0"
  }
 },
 "nbformat": 4,
 "nbformat_minor": 5
}
