{
 "cells": [
  {
   "cell_type": "code",
   "execution_count": 1,
   "id": "595c64c7",
   "metadata": {
    "_cell_guid": "b1076dfc-b9ad-4769-8c92-a6c4dae69d19",
    "_uuid": "8f2839f25d086af736a60e9eeb907d3b93b6e0e5",
    "execution": {
     "iopub.execute_input": "2024-11-28T07:33:25.777441Z",
     "iopub.status.busy": "2024-11-28T07:33:25.777068Z",
     "iopub.status.idle": "2024-11-28T07:33:27.022747Z",
     "shell.execute_reply": "2024-11-28T07:33:27.021276Z"
    },
    "papermill": {
     "duration": 1.252051,
     "end_time": "2024-11-28T07:33:27.025521",
     "exception": false,
     "start_time": "2024-11-28T07:33:25.773470",
     "status": "completed"
    },
    "tags": []
   },
   "outputs": [
    {
     "name": "stdout",
     "output_type": "stream",
     "text": [
      "/kaggle/input/house-prices-advanced-regression-techniques/sample_submission.csv\n",
      "/kaggle/input/house-prices-advanced-regression-techniques/data_description.txt\n",
      "/kaggle/input/house-prices-advanced-regression-techniques/train.csv\n",
      "/kaggle/input/house-prices-advanced-regression-techniques/test.csv\n"
     ]
    }
   ],
   "source": [
    "# This Python 3 environment comes with many helpful analytics libraries installed\n",
    "# It is defined by the kaggle/python Docker image: https://github.com/kaggle/docker-python\n",
    "# For example, here's several helpful packages to load\n",
    "\n",
    "import numpy as np # linear algebra\n",
    "import pandas as pd # data processing, CSV file I/O (e.g. pd.read_csv)\n",
    "\n",
    "# Input data files are available in the read-only \"../input/\" directory\n",
    "# For example, running this (by clicking run or pressing Shift+Enter) will list all files under the input directory\n",
    "\n",
    "import os\n",
    "for dirname, _, filenames in os.walk('/kaggle/input'):\n",
    "    for filename in filenames:\n",
    "        print(os.path.join(dirname, filename))\n",
    "\n",
    "# You can write up to 20GB to the current directory (/kaggle/working/) that gets preserved as output when you create a version using \"Save & Run All\" \n",
    "# You can also write temporary files to /kaggle/temp/, but they won't be saved outside of the current session"
   ]
  },
  {
   "cell_type": "code",
   "execution_count": 2,
   "id": "393477c2",
   "metadata": {
    "execution": {
     "iopub.execute_input": "2024-11-28T07:33:27.031549Z",
     "iopub.status.busy": "2024-11-28T07:33:27.031050Z",
     "iopub.status.idle": "2024-11-28T07:33:29.515038Z",
     "shell.execute_reply": "2024-11-28T07:33:29.512920Z"
    },
    "papermill": {
     "duration": 2.495466,
     "end_time": "2024-11-28T07:33:29.523237",
     "exception": false,
     "start_time": "2024-11-28T07:33:27.027771",
     "status": "completed"
    },
    "tags": []
   },
   "outputs": [],
   "source": [
    "import numpy as np # linear algebra\n",
    "import pandas as pd # data processing, CSV file I/O (e.g. pd.read_csv)\n",
    "from sklearn import preprocessing\n",
    "from sklearn.linear_model import LinearRegression\n",
    "import matplotlib.pyplot as plt\n",
    "\n",
    "\n",
    "train = pd.read_csv(\"/kaggle/input/house-prices-advanced-regression-techniques/train.csv\")\n",
    "test = pd.read_csv(\"/kaggle/input/house-prices-advanced-regression-techniques/test.csv\")\n",
    "label_encoder = preprocessing.LabelEncoder()\n",
    "model = LinearRegression()\n",
    "\n",
    "train.dropna(subset = [\"SalePrice\"], inplace = True)\n",
    "\n",
    "for col in train.columns:\n",
    "    if train[col].dtype == \"object\":\n",
    "        train[col] = label_encoder.fit_transform(train[col].astype(str))\n",
    "        test[col] = label_encoder.fit_transform(test[col].astype(str))\n",
    "train.fillna(train.median(), inplace = True)\n",
    "test.fillna(train.median(), inplace = True)\n",
    "\n",
    "\n",
    "X = train.drop(columns = ['SalePrice'])\n",
    "y = train['SalePrice']\n",
    "model.fit(X,y)\n",
    "\n",
    "predictions = model.predict(test)\n",
    "\n",
    "pred = pd.DataFrame(predictions, columns = ['SalePrice'])\n",
    "sub = pd.concat([test.Id, pred], axis = 1)\n",
    "sub.set_index('Id',inplace=True)\n",
    "sub.to_csv(\"submission.csv\")\n",
    "\n",
    "\n"
   ]
  }
 ],
 "metadata": {
  "kaggle": {
   "accelerator": "none",
   "dataSources": [
    {
     "databundleVersionId": 868283,
     "sourceId": 5407,
     "sourceType": "competition"
    }
   ],
   "dockerImageVersionId": 30786,
   "isGpuEnabled": false,
   "isInternetEnabled": false,
   "language": "python",
   "sourceType": "notebook"
  },
  "kernelspec": {
   "display_name": "Python 3",
   "language": "python",
   "name": "python3"
  },
  "language_info": {
   "codemirror_mode": {
    "name": "ipython",
    "version": 3
   },
   "file_extension": ".py",
   "mimetype": "text/x-python",
   "name": "python",
   "nbconvert_exporter": "python",
   "pygments_lexer": "ipython3",
   "version": "3.10.14"
  },
  "papermill": {
   "default_parameters": {},
   "duration": 7.852583,
   "end_time": "2024-11-28T07:33:30.268330",
   "environment_variables": {},
   "exception": null,
   "input_path": "__notebook__.ipynb",
   "output_path": "__notebook__.ipynb",
   "parameters": {},
   "start_time": "2024-11-28T07:33:22.415747",
   "version": "2.6.0"
  }
 },
 "nbformat": 4,
 "nbformat_minor": 5
}
